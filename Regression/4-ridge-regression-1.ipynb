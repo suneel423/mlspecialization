{
 "cells": [
  {
   "cell_type": "markdown",
   "metadata": {},
   "source": [
    "# Regression Week 4: Ridge Regression (interpretation)"
   ]
  },
  {
   "cell_type": "markdown",
   "metadata": {},
   "source": [
    "In this notebook, we will run ridge regression multiple times with different L2 penalties to see which one produces the best fit. We will revisit the example of polynomial regression as a means to see the effect of L2 regularization. In particular, we will:\n",
    "* Use a pre-built implementation of regression (GraphLab Create) to run polynomial regression\n",
    "* Use matplotlib to visualize polynomial regressions\n",
    "* Use a pre-built implementation of regression (GraphLab Create) to run polynomial regression, this time with L2 penalty\n",
    "* Use matplotlib to visualize polynomial regressions under L2 regularization\n",
    "* Choose best L2 penalty using cross-validation.\n",
    "* Assess the final fit using test data.\n",
    "\n",
    "We will continue to use the House data from previous notebooks.  (In the next programming assignment for this module, you will implement your own ridge regression learning algorithm using gradient descent.)"
   ]
  },
  {
   "cell_type": "markdown",
   "metadata": {},
   "source": [
    "# Fire up graphlab create"
   ]
  },
  {
   "cell_type": "code",
   "execution_count": 158,
   "metadata": {
    "collapsed": false
   },
   "outputs": [],
   "source": [
    "import graphlab"
   ]
  },
  {
   "cell_type": "markdown",
   "metadata": {},
   "source": [
    "# Polynomial regression, revisited"
   ]
  },
  {
   "cell_type": "markdown",
   "metadata": {},
   "source": [
    "We build on the material from Week 3, where we wrote the function to produce an SFrame with columns containing the powers of a given input. Copy and paste the function `polynomial_sframe` from Week 3:"
   ]
  },
  {
   "cell_type": "code",
   "execution_count": 2,
   "metadata": {
    "collapsed": true
   },
   "outputs": [],
   "source": [
    "def polynomial_sframe(feature, degree):\n",
    "    # assume that degree >= 1\n",
    "    # initialize the SFrame:\n",
    "    poly_sframe = graphlab.SFrame()\n",
    "    # and set poly_sframe['power_1'] equal to the passed feature\n",
    "    poly_sframe['power_1'] = feature\n",
    "    \n",
    "    # first check if degree > 1\n",
    "    if degree > 1:\n",
    "        # then loop over the remaining degrees:\n",
    "        # range usually starts at 0 and stops at the endpoint-1. We want it to start at 2 and stop at degree\n",
    "        for power in range(2, degree+1): \n",
    "            # first we'll give the column a name:\n",
    "            name = 'power_' + str(power)\n",
    "            # then assign poly_sframe[name] to the appropriate power of feature\n",
    "            poly_sframe[name] = feature.apply(lambda x: x**power)\n",
    "\n",
    "    return poly_sframe"
   ]
  },
  {
   "cell_type": "markdown",
   "metadata": {},
   "source": [
    "Let's use matplotlib to visualize what a polynomial regression looks like on the house data."
   ]
  },
  {
   "cell_type": "code",
   "execution_count": 4,
   "metadata": {
    "collapsed": false
   },
   "outputs": [],
   "source": [
    "import matplotlib.pyplot as plt\n",
    "%matplotlib inline"
   ]
  },
  {
   "cell_type": "code",
   "execution_count": 5,
   "metadata": {
    "collapsed": false
   },
   "outputs": [],
   "source": [
    "sales = graphlab.SFrame('kc_house_data.gl/')"
   ]
  },
  {
   "cell_type": "markdown",
   "metadata": {},
   "source": [
    "As in Week 3, we will use the sqft_living variable. For plotting purposes (connecting the dots), you'll need to sort by the values of sqft_living. For houses with identical square footage, we break the tie by their prices."
   ]
  },
  {
   "cell_type": "code",
   "execution_count": 6,
   "metadata": {
    "collapsed": false
   },
   "outputs": [],
   "source": [
    "sales = sales.sort(['sqft_living','price'])"
   ]
  },
  {
   "cell_type": "markdown",
   "metadata": {},
   "source": [
    "Let us revisit the 15th-order polynomial model using the 'sqft_living' input. Generate polynomial features up to degree 15 using `polynomial_sframe()` and fit a model with these features. When fitting the model, use an L2 penalty of `1e-5`:"
   ]
  },
  {
   "cell_type": "code",
   "execution_count": 7,
   "metadata": {
    "collapsed": true
   },
   "outputs": [],
   "source": [
    "l2_small_penalty = 1e-5"
   ]
  },
  {
   "cell_type": "markdown",
   "metadata": {},
   "source": [
    "Note: When we have so many features and so few data points, the solution can become highly numerically unstable, which can sometimes lead to strange unpredictable results.  Thus, rather than using no regularization, we will introduce a tiny amount of regularization (`l2_penalty=1e-5`) to make the solution numerically stable.  (In lecture, we discussed the fact that regularization can also help with numerical stability, and here we are seeing a practical example.)\n",
    "\n",
    "With the L2 penalty specified above, fit the model and print out the learned weights.\n",
    "\n",
    "Hint: make sure to add 'price' column to the new SFrame before calling `graphlab.linear_regression.create()`. Also, make sure GraphLab Create doesn't create its own validation set by using the option `validation_set=None` in this call."
   ]
  },
  {
   "cell_type": "code",
   "execution_count": 20,
   "metadata": {
    "collapsed": false
   },
   "outputs": [
    {
     "name": "stdout",
     "output_type": "stream",
     "text": [
      "+-------------+-------+--------------------+-------------------+\n",
      "|     name    | index |       value        |       stderr      |\n",
      "+-------------+-------+--------------------+-------------------+\n",
      "| (intercept) |  None |   167924.857782    |   424791.915418   |\n",
      "|   power_1   |  None |   103.090949863    |   1985.19757315   |\n",
      "|   power_2   |  None |   0.134604555026   |    3.8921765362   |\n",
      "|   power_3   |  None | -0.000129071368423 |  0.00423214943723 |\n",
      "|   power_4   |  None | 5.18928983008e-08  | 2.84523002331e-06 |\n",
      "|   power_5   |  None | -7.77169386714e-12 | 1.24440342188e-09 |\n",
      "|   power_6   |  None | 1.71144993022e-16  | 3.59891953989e-13 |\n",
      "|   power_7   |  None | 4.51177844909e-20  | 6.71378349869e-17 |\n",
      "|   power_8   |  None | -4.78840025362e-25 | 6.87651915868e-21 |\n",
      "|   power_9   |  None | -2.33343424709e-28 |        nan        |\n",
      "|   power_10  |  None | -7.29022538216e-33 |        nan        |\n",
      "|   power_11  |  None | 7.22829188492e-37  |        nan        |\n",
      "|   power_12  |  None |  6.9046996135e-41  |        nan        |\n",
      "|   power_13  |  None | -3.65833759348e-46 |        nan        |\n",
      "|   power_14  |  None | -3.79576427339e-49 |        nan        |\n",
      "|   power_15  |  None | 1.13723237393e-53  |        nan        |\n",
      "+-------------+-------+--------------------+-------------------+\n",
      "[16 rows x 4 columns]\n",
      "\n"
     ]
    }
   ],
   "source": [
    "poly15_data = polynomial_sframe(sales['sqft_living'], 15)\n",
    "my_features = poly15_data.column_names()\n",
    "#print my_features\n",
    "poly15_data['price'] = sales['price'] # add price to the data since it's the target\n",
    "model15 = graphlab.linear_regression.create(poly15_data, \n",
    "                                           target = 'price', features = my_features, \n",
    "                                           validation_set = None, verbose=0, l2_penalty=l2_small_penalty)\n",
    "model15.coefficients.print_rows(num_rows=16)\n",
    "#model1.get(\"coefficients\")"
   ]
  },
  {
   "cell_type": "markdown",
   "metadata": {},
   "source": [
    "***QUIZ QUESTION:  What's the learned value for the coefficient of feature `power_1`?***"
   ]
  },
  {
   "cell_type": "markdown",
   "metadata": {},
   "source": [
    "# Observe overfitting"
   ]
  },
  {
   "cell_type": "markdown",
   "metadata": {},
   "source": [
    "Recall from Week 3 that the polynomial fit of degree 15 changed wildly whenever the data changed. In particular, when we split the sales data into four subsets and fit the model of degree 15, the result came out to be very different for each subset. The model had a *high variance*. We will see in a moment that ridge regression reduces such variance. But first, we must reproduce the experiment we did in Week 3."
   ]
  },
  {
   "cell_type": "markdown",
   "metadata": {},
   "source": [
    "First, split the data into split the sales data into four subsets of roughly equal size and call them `set_1`, `set_2`, `set_3`, and `set_4`. Use `.random_split` function and make sure you set `seed=0`. "
   ]
  },
  {
   "cell_type": "code",
   "execution_count": 30,
   "metadata": {
    "collapsed": true
   },
   "outputs": [],
   "source": [
    "(semi_split1, semi_split2) = sales.random_split(.5,seed=0)\n",
    "(set_1, set_2) = semi_split1.random_split(0.5, seed=0)\n",
    "(set_3, set_4) = semi_split2.random_split(0.5, seed=0)\n",
    "\n",
    "poly_set1_data = polynomial_sframe(set_1['sqft_living'], 15)\n",
    "poly_set1_data['price'] = set_1['price'] # add price to the data since it's the target\n",
    "\n",
    "poly_set2_data = polynomial_sframe(set_2['sqft_living'], 15)\n",
    "poly_set2_data['price'] = set_2['price'] # add price to the data since it's the target\n",
    "\n",
    "poly_set3_data = polynomial_sframe(set_3['sqft_living'], 15)\n",
    "poly_set3_data['price'] = set_3['price'] # add price to the data since it's the target\n",
    "\n",
    "poly_set4_data = polynomial_sframe(set_4['sqft_living'], 15)\n",
    "poly_set4_data['price'] = set_4['price'] # add price to the data since it's the target"
   ]
  },
  {
   "cell_type": "markdown",
   "metadata": {},
   "source": [
    "Next, fit a 15th degree polynomial on `set_1`, `set_2`, `set_3`, and `set_4`, using 'sqft_living' to predict prices. Print the weights and make a plot of the resulting model.\n",
    "\n",
    "Hint: When calling `graphlab.linear_regression.create()`, use the same L2 penalty as before (i.e. `l2_small_penalty`).  Also, make sure GraphLab Create doesn't create its own validation set by using the option `validation_set = None` in this call."
   ]
  },
  {
   "cell_type": "code",
   "execution_count": 217,
   "metadata": {
    "collapsed": false
   },
   "outputs": [
    {
     "name": "stdout",
     "output_type": "stream",
     "text": [
      "+-------------+-------+--------------------+-------------------+\n",
      "|     name    | index |       value        |       stderr      |\n",
      "+-------------+-------+--------------------+-------------------+\n",
      "| (intercept) |  None |    9306.4692847    |   511890.728797   |\n",
      "|   power_1   |  None |   585.865796954    |   1833.03373277   |\n",
      "|   power_2   |  None |  -0.397305865637   |    2.5851840778   |\n",
      "|   power_3   |  None | 0.000141470884249  |  0.00198302127724 |\n",
      "|   power_4   |  None | -1.52945944619e-08 | 1.23240768812e-06 |\n",
      "|   power_5   |  None | -3.7975692021e-13  | 7.44026325756e-10 |\n",
      "|   power_6   |  None |  5.9748197879e-17  | 3.18395243551e-13 |\n",
      "|   power_7   |  None | 1.06888522154e-20  | 8.70241984767e-17 |\n",
      "|   power_8   |  None |  1.5934394511e-25  | 1.48725703568e-20 |\n",
      "|   power_9   |  None | -6.92834923156e-29 | 1.44307438267e-24 |\n",
      "|   power_10  |  None |  -6.838133632e-33  |        nan        |\n",
      "|   power_11  |  None | -1.62686285878e-37 |        nan        |\n",
      "|   power_12  |  None | 2.85118753642e-41  | 5.89541644628e-37 |\n",
      "|   power_13  |  None | 3.79998229053e-45  | 4.82568166361e-41 |\n",
      "|   power_14  |  None | 1.52652634984e-49  | 2.01654936961e-45 |\n",
      "|   power_15  |  None | -2.33807337026e-53 | 3.72509814412e-50 |\n",
      "+-------------+-------+--------------------+-------------------+\n",
      "[16 rows x 4 columns]\n",
      "\n"
     ]
    }
   ],
   "source": [
    "model_set1 = graphlab.linear_regression.create(poly_set1_data, \n",
    "                                           target = 'price', features = my_features, \n",
    "                                           validation_set = None, verbose=0, l2_penalty=l2_small_penalty)\n",
    "model_set1.coefficients.print_rows(num_rows=16)\n",
    "#model1.get(\"coefficients\")"
   ]
  },
  {
   "cell_type": "code",
   "execution_count": 218,
   "metadata": {
    "collapsed": false,
    "scrolled": false
   },
   "outputs": [
    {
     "name": "stdout",
     "output_type": "stream",
     "text": [
      "+-------------+-------+--------------------+-------------------+\n",
      "|     name    | index |       value        |       stderr      |\n",
      "+-------------+-------+--------------------+-------------------+\n",
      "| (intercept) |  None |   -25115.8923828   |   1012194.12562   |\n",
      "|   power_1   |  None |   783.493759157    |    4531.1488529   |\n",
      "|   power_2   |  None |  -0.767759249579   |   6.75790246824   |\n",
      "|   power_3   |  None | 0.000438766335604  |        nan        |\n",
      "|   power_4   |  None | -1.15169156499e-07 |        nan        |\n",
      "|   power_5   |  None | 6.84281274083e-12  |        nan        |\n",
      "|   power_6   |  None | 2.51195146012e-15  |        nan        |\n",
      "|   power_7   |  None | -2.06440456037e-19 |        nan        |\n",
      "|   power_8   |  None | -4.59673256953e-23 |        nan        |\n",
      "|   power_9   |  None | -2.7126220056e-29  |        nan        |\n",
      "|   power_10  |  None | 6.21818422395e-31  |        nan        |\n",
      "|   power_11  |  None | 6.51741349423e-35  |        nan        |\n",
      "|   power_12  |  None | -9.4131645908e-40  |        nan        |\n",
      "|   power_13  |  None | -1.02421368859e-42 |        nan        |\n",
      "|   power_14  |  None | -1.00391086772e-46 |        nan        |\n",
      "|   power_15  |  None | 1.30113360074e-50  | 1.90231643185e-49 |\n",
      "+-------------+-------+--------------------+-------------------+\n",
      "[16 rows x 4 columns]\n",
      "\n"
     ]
    }
   ],
   "source": [
    "model_set2 = graphlab.linear_regression.create(poly_set2_data, \n",
    "                                           target = 'price', features = my_features, \n",
    "                                           validation_set = None, verbose=0, l2_penalty=l2_small_penalty)\n",
    "model_set2.coefficients.print_rows(num_rows=16)\n",
    "#model1.get(\"coefficients\")"
   ]
  },
  {
   "cell_type": "code",
   "execution_count": 219,
   "metadata": {
    "collapsed": false
   },
   "outputs": [
    {
     "name": "stdout",
     "output_type": "stream",
     "text": [
      "+-------------+-------+--------------------+-------------------+\n",
      "|     name    | index |       value        |       stderr      |\n",
      "+-------------+-------+--------------------+-------------------+\n",
      "| (intercept) |  None |   462426.561016    |   2176636.39699   |\n",
      "|   power_1   |  None |   -759.251838273   |   11481.6969916   |\n",
      "|   power_2   |  None |   1.02867005901    |   25.2610950182   |\n",
      "|   power_3   |  None | -0.000528264549123 |  0.0306382838047  |\n",
      "|   power_4   |  None | 1.15422922473e-07  | 2.27569189956e-05 |\n",
      "|   power_5   |  None | -2.26096384196e-12 | 1.07937537403e-08 |\n",
      "|   power_6   |  None | -2.08214225042e-15 |  3.2389893799e-12 |\n",
      "|   power_7   |  None | 4.08770260617e-20  | 5.29778981508e-16 |\n",
      "|   power_8   |  None | 2.57079101274e-23  |        nan        |\n",
      "|   power_9   |  None | 1.24311286703e-27  |        nan        |\n",
      "|   power_10  |  None | -1.72025870827e-31 |        nan        |\n",
      "|   power_11  |  None | -2.96760976538e-35 |        nan        |\n",
      "|   power_12  |  None | -1.06574965379e-39 |        nan        |\n",
      "|   power_13  |  None | 2.42635661401e-43  |        nan        |\n",
      "|   power_14  |  None | 3.55598716859e-47  |        nan        |\n",
      "|   power_15  |  None | -2.85777444126e-51 | 3.20644404986e-49 |\n",
      "+-------------+-------+--------------------+-------------------+\n",
      "[16 rows x 4 columns]\n",
      "\n"
     ]
    }
   ],
   "source": [
    "model_set3 = graphlab.linear_regression.create(poly_set3_data, \n",
    "                                           target = 'price', features = my_features, \n",
    "                                           validation_set = None, verbose=0, l2_penalty=l2_small_penalty)\n",
    "model_set3.coefficients.print_rows(num_rows=16)\n",
    "#model1.get(\"coefficients\")"
   ]
  },
  {
   "cell_type": "code",
   "execution_count": 220,
   "metadata": {
    "collapsed": false
   },
   "outputs": [
    {
     "name": "stdout",
     "output_type": "stream",
     "text": [
      "+-------------+-------+--------------------+-------------------+\n",
      "|     name    | index |       value        |       stderr      |\n",
      "+-------------+-------+--------------------+-------------------+\n",
      "| (intercept) |  None |   -170240.03108    |   1386363.19824   |\n",
      "|   power_1   |  None |   1247.59033409    |    8557.7696248   |\n",
      "|   power_2   |  None |   -1.22460909731   |   21.5668263611   |\n",
      "|   power_3   |  None | 0.000555254601594  |  0.0287746522846  |\n",
      "|   power_4   |  None | -6.38262246523e-08 | 2.11811711097e-05 |\n",
      "|   power_5   |  None | -2.20216020836e-11 |  4.1826121446e-09 |\n",
      "|   power_6   |  None | 4.81834693099e-15  |        nan        |\n",
      "|   power_7   |  None |  4.2146175607e-19  |        nan        |\n",
      "|   power_8   |  None | -7.99880922899e-23 |        nan        |\n",
      "|   power_9   |  None | -1.32365917372e-26 |        nan        |\n",
      "|   power_10  |  None | 1.60198072425e-31  |        nan        |\n",
      "|   power_11  |  None | 2.39904365415e-34  | 9.97155926783e-31 |\n",
      "|   power_12  |  None |  2.3335444083e-38  |        nan        |\n",
      "|   power_13  |  None | -1.79874079347e-42 |        nan        |\n",
      "|   power_14  |  None | -6.02862587954e-46 |        nan        |\n",
      "|   power_15  |  None | 4.39472626623e-50  |        nan        |\n",
      "+-------------+-------+--------------------+-------------------+\n",
      "[16 rows x 4 columns]\n",
      "\n"
     ]
    }
   ],
   "source": [
    "model_set4 = graphlab.linear_regression.create(poly_set4_data, \n",
    "                                           target = 'price', features = my_features, \n",
    "                                           validation_set = None, verbose=0, l2_penalty=l2_small_penalty)\n",
    "model_set4.coefficients.print_rows(num_rows=16)\n",
    "#model1.get(\"coefficients\")"
   ]
  },
  {
   "cell_type": "markdown",
   "metadata": {},
   "source": [
    "The four curves should differ from one another a lot, as should the coefficients you learned.\n",
    "\n",
    "***QUIZ QUESTION:  For the models learned in each of these training sets, what are the smallest and largest values you learned for the coefficient of feature `power_1`?***  (For the purpose of answering this question, negative numbers are considered \"smaller\" than positive numbers. So -5 is smaller than -3, and -3 is smaller than 5 and so forth.)"
   ]
  },
  {
   "cell_type": "markdown",
   "metadata": {},
   "source": [
    "# Ridge regression comes to rescue"
   ]
  },
  {
   "cell_type": "markdown",
   "metadata": {},
   "source": [
    "Generally, whenever we see weights change so much in response to change in data, we believe the variance of our estimate to be large. Ridge regression aims to address this issue by penalizing \"large\" weights. (Weights of `model15` looked quite small, but they are not that small because 'sqft_living' input is in the order of thousands.)\n",
    "\n",
    "With the argument `l2_penalty=1e5`, fit a 15th-order polynomial model on `set_1`, `set_2`, `set_3`, and `set_4`. Other than the change in the `l2_penalty` parameter, the code should be the same as the experiment above. Also, make sure GraphLab Create doesn't create its own validation set by using the option `validation_set = None` in this call."
   ]
  },
  {
   "cell_type": "code",
   "execution_count": 51,
   "metadata": {
    "collapsed": false,
    "scrolled": false
   },
   "outputs": [],
   "source": [
    "def reg_with_l2_penalty(data_set, penalty):\n",
    "    model = graphlab.linear_regression.create(data_set, \n",
    "                                           target = 'price', features = my_features, \n",
    "                                           validation_set = None, verbose=0, l2_penalty=penalty)\n",
    "    model.coefficients.print_rows(num_rows=16)\n",
    "    #plt.plot(data_set['power_15'],data_set['price'],'.',\n",
    "    #    data_set['power_15'], model.predict(data_set),'-')\n",
    "    "
   ]
  },
  {
   "cell_type": "code",
   "execution_count": 52,
   "metadata": {
    "collapsed": false,
    "scrolled": false
   },
   "outputs": [
    {
     "name": "stdout",
     "output_type": "stream",
     "text": [
      "poly_set1_data penalty:100000\n",
      "+-------------+-------+-------------------+-------------------+\n",
      "|     name    | index |       value       |       stderr      |\n",
      "+-------------+-------+-------------------+-------------------+\n",
      "| (intercept) |  None |   530317.024516   |   770332.871178   |\n",
      "|   power_1   |  None |   2.58738875673   |   2758.49133202   |\n",
      "|   power_2   |  None |  0.00127414400592 |   3.89038550836   |\n",
      "|   power_3   |  None | 1.74934226932e-07 |  0.00298420422204 |\n",
      "|   power_4   |  None | 1.06022119097e-11 |  1.8546226752e-06 |\n",
      "|   power_5   |  None | 5.42247604482e-16 | 1.11966852203e-09 |\n",
      "|   power_6   |  None | 2.89563828343e-20 | 4.79145857379e-13 |\n",
      "|   power_7   |  None | 1.65000666351e-24 | 1.30960763505e-16 |\n",
      "|   power_8   |  None | 9.86081528409e-29 | 2.23813973964e-20 |\n",
      "|   power_9   |  None | 6.06589348254e-33 | 2.17165025656e-24 |\n",
      "|   power_10  |  None |  3.7891786887e-37 |        nan        |\n",
      "|   power_11  |  None | 2.38223121312e-41 |        nan        |\n",
      "|   power_12  |  None | 1.49847969215e-45 | 8.87187991962e-37 |\n",
      "|   power_13  |  None | 9.39161190285e-50 | 7.26206004952e-41 |\n",
      "|   power_14  |  None | 5.84523161981e-54 |  3.0346598959e-45 |\n",
      "|   power_15  |  None | 3.60120207203e-58 | 5.60581660762e-50 |\n",
      "+-------------+-------+-------------------+-------------------+\n",
      "[16 rows x 4 columns]\n",
      "\n",
      "poly_set2_data penalty:100000\n",
      "+-------------+-------+-------------------+-------------------+\n",
      "|     name    | index |       value       |       stderr      |\n",
      "+-------------+-------+-------------------+-------------------+\n",
      "| (intercept) |  None |   519216.897383   |   1395025.74229   |\n",
      "|   power_1   |  None |   2.04470474182   |   6244.91797761   |\n",
      "|   power_2   |  None |  0.0011314362684  |   9.31387336521   |\n",
      "|   power_3   |  None | 2.93074277549e-07 |        nan        |\n",
      "|   power_4   |  None | 4.43540598453e-11 |        nan        |\n",
      "|   power_5   |  None | 4.80849112204e-15 |        nan        |\n",
      "|   power_6   |  None | 4.53091707826e-19 |        nan        |\n",
      "|   power_7   |  None | 4.16042910575e-23 |        nan        |\n",
      "|   power_8   |  None | 3.90094635128e-27 |        nan        |\n",
      "|   power_9   |  None |  3.7773187602e-31 |        nan        |\n",
      "|   power_10  |  None | 3.76650326842e-35 |        nan        |\n",
      "|   power_11  |  None | 3.84228094754e-39 |        nan        |\n",
      "|   power_12  |  None | 3.98520828414e-43 |        nan        |\n",
      "|   power_13  |  None | 4.18272762394e-47 |        nan        |\n",
      "|   power_14  |  None | 4.42738332878e-51 |        nan        |\n",
      "|   power_15  |  None | 4.71518245412e-55 | 2.62180971537e-49 |\n",
      "+-------------+-------+-------------------+-------------------+\n",
      "[16 rows x 4 columns]\n",
      "\n",
      "poly_set3_data penalty:100000\n",
      "+-------------+-------+-------------------+-------------------+\n",
      "|     name    | index |       value       |       stderr      |\n",
      "+-------------+-------+-------------------+-------------------+\n",
      "| (intercept) |  None |   522911.518048   |   3034259.64255   |\n",
      "|   power_1   |  None |   2.26890421877   |   16005.6359702   |\n",
      "|   power_2   |  None |  0.00125905041842 |   35.2142972738   |\n",
      "|   power_3   |  None | 2.77552918155e-07 |  0.0427101688615  |\n",
      "|   power_4   |  None |  3.2093309779e-11 | 3.17234431036e-05 |\n",
      "|   power_5   |  None | 2.87573572364e-15 | 1.50466340686e-08 |\n",
      "|   power_6   |  None | 2.50076112671e-19 | 4.51519361326e-12 |\n",
      "|   power_7   |  None | 2.24685265906e-23 | 7.38518838188e-16 |\n",
      "|   power_8   |  None | 2.09349983135e-27 |        nan        |\n",
      "|   power_9   |  None | 2.00435383296e-31 |        nan        |\n",
      "|   power_10  |  None | 1.95410800249e-35 |        nan        |\n",
      "|   power_11  |  None | 1.92734119456e-39 |        nan        |\n",
      "|   power_12  |  None | 1.91483699013e-43 |        nan        |\n",
      "|   power_13  |  None | 1.91102277046e-47 |        nan        |\n",
      "|   power_14  |  None | 1.91246242302e-51 |        nan        |\n",
      "|   power_15  |  None | 1.91699558035e-55 | 4.46982499698e-49 |\n",
      "+-------------+-------+-------------------+-------------------+\n",
      "[16 rows x 4 columns]\n",
      "\n",
      "poly_set4_data penalty:100000\n",
      "+-------------+-------+-------------------+-------------------+\n",
      "|     name    | index |       value       |       stderr      |\n",
      "+-------------+-------+-------------------+-------------------+\n",
      "| (intercept) |  None |   513667.087087   |   1833296.37643   |\n",
      "|   power_1   |  None |   1.91040938244   |    11316.607411   |\n",
      "|   power_2   |  None |  0.00110058029175 |   28.5194995576   |\n",
      "|   power_3   |  None | 3.12753987879e-07 |  0.0380509709385  |\n",
      "|   power_4   |  None | 5.50067886825e-11 | 2.80095174867e-05 |\n",
      "|   power_5   |  None | 7.20467557825e-15 | 5.53099483488e-09 |\n",
      "|   power_6   |  None | 8.24977249384e-19 |        nan        |\n",
      "|   power_7   |  None | 9.06503223498e-23 |        nan        |\n",
      "|   power_8   |  None | 9.95683160453e-27 |        nan        |\n",
      "|   power_9   |  None | 1.10838127982e-30 |        nan        |\n",
      "|   power_10  |  None | 1.25315224143e-34 |        nan        |\n",
      "|   power_11  |  None | 1.43600781402e-38 | 1.31861719182e-30 |\n",
      "|   power_12  |  None |  1.662699678e-42  |        nan        |\n",
      "|   power_13  |  None |  1.9398172453e-46 |        nan        |\n",
      "|   power_14  |  None |  2.2754148577e-50 |        nan        |\n",
      "|   power_15  |  None | 2.67948784897e-54 |        nan        |\n",
      "+-------------+-------+-------------------+-------------------+\n",
      "[16 rows x 4 columns]\n",
      "\n"
     ]
    }
   ],
   "source": [
    "penalty = 1e5\n",
    "\n",
    "print \"%s penalty:%d\" %(\"poly_set1_data\",penalty)\n",
    "reg_with_l2_penalty(poly_set1_data, penalty)\n",
    "\n",
    "\n",
    "print \"%s penalty:%d\" %(\"poly_set2_data\",penalty)\n",
    "reg_with_l2_penalty(poly_set2_data, penalty)\n",
    "\n",
    "print \"%s penalty:%d\" %(\"poly_set3_data\",penalty)\n",
    "reg_with_l2_penalty(poly_set3_data, penalty)\n",
    "\n",
    "print \"%s penalty:%d\" %(\"poly_set4_data\",penalty)\n",
    "reg_with_l2_penalty(poly_set4_data, penalty)"
   ]
  },
  {
   "cell_type": "markdown",
   "metadata": {},
   "source": [
    "These curves should vary a lot less, now that you applied a high degree of regularization.\n",
    "\n",
    "***QUIZ QUESTION:  For the models learned with the high level of regularization in each of these training sets, what are the smallest and largest values you learned for the coefficient of feature `power_1`?*** (For the purpose of answering this question, negative numbers are considered \"smaller\" than positive numbers. So -5 is smaller than -3, and -3 is smaller than 5 and so forth.)"
   ]
  },
  {
   "cell_type": "markdown",
   "metadata": {},
   "source": [
    "# Selecting an L2 penalty via cross-validation"
   ]
  },
  {
   "cell_type": "markdown",
   "metadata": {},
   "source": [
    "Just like the polynomial degree, the L2 penalty is a \"magic\" parameter we need to select. We could use the validation set approach as we did in the last module, but that approach has a major disadvantage: it leaves fewer observations available for training. **Cross-validation** seeks to overcome this issue by using all of the training set in a smart way.\n",
    "\n",
    "We will implement a kind of cross-validation called **k-fold cross-validation**. The method gets its name because it involves dividing the training set into k segments of roughtly equal size. Similar to the validation set method, we measure the validation error with one of the segments designated as the validation set. The major difference is that we repeat the process k times as follows:\n",
    "\n",
    "Set aside segment 0 as the validation set, and fit a model on rest of data, and evalutate it on this validation set<br>\n",
    "Set aside segment 1 as the validation set, and fit a model on rest of data, and evalutate it on this validation set<br>\n",
    "...<br>\n",
    "Set aside segment k-1 as the validation set, and fit a model on rest of data, and evalutate it on this validation set\n",
    "\n",
    "After this process, we compute the average of the k validation errors, and use it as an estimate of the generalization error. Notice that  all observations are used for both training and validation, as we iterate over segments of data. \n",
    "\n",
    "To estimate the generalization error well, it is crucial to shuffle the training data before dividing them into segments. GraphLab Create has a utility function for shuffling a given SFrame. We reserve 10% of the data as the test set and shuffle the remainder. (Make sure to use `seed=1` to get consistent answer.)"
   ]
  },
  {
   "cell_type": "code",
   "execution_count": 66,
   "metadata": {
    "collapsed": true
   },
   "outputs": [],
   "source": [
    "(train_valid, test) = sales.random_split(.9, seed=1)\n",
    "train_valid_shuffled = graphlab.toolkits.cross_validation.shuffle(train_valid, random_seed=1)"
   ]
  },
  {
   "cell_type": "markdown",
   "metadata": {},
   "source": [
    "Once the data is shuffled, we divide it into equal segments. Each segment should receive `n/k` elements, where `n` is the number of observations in the training set and `k` is the number of segments. Since the segment 0 starts at index 0 and contains `n/k` elements, it ends at index `(n/k)-1`. The segment 1 starts where the segment 0 left off, at index `(n/k)`. With `n/k` elements, the segment 1 ends at index `(n*2/k)-1`. Continuing in this fashion, we deduce that the segment `i` starts at index `(n*i/k)` and ends at `(n*(i+1)/k)-1`."
   ]
  },
  {
   "cell_type": "markdown",
   "metadata": {},
   "source": [
    "With this pattern in mind, we write a short loop that prints the starting and ending indices of each segment, just to make sure you are getting the splits right."
   ]
  },
  {
   "cell_type": "code",
   "execution_count": 225,
   "metadata": {
    "collapsed": false
   },
   "outputs": [],
   "source": [
    "def get_indices(n, k, segment):\n",
    "    for i in xrange(k):\n",
    "        if(i == (segment-1)):\n",
    "            start = (n*i)/k\n",
    "            end = (n*(i+1))/k-1\n",
    "            #print i, (start, end)\n",
    "            return (start, end)"
   ]
  },
  {
   "cell_type": "markdown",
   "metadata": {
    "collapsed": false
   },
   "source": [
    "Let us familiarize ourselves with array slicing with SFrame. To extract a continuous slice from an SFrame, use colon in square brackets. For instance, the following cell extracts rows 0 to 9 of `train_valid_shuffled`. Notice that the first index (0) is included in the slice but the last index (10) is omitted."
   ]
  },
  {
   "cell_type": "code",
   "execution_count": 226,
   "metadata": {
    "collapsed": false
   },
   "outputs": [],
   "source": [
    "#train_valid_shuffled[0:10] # rows 0 to 9"
   ]
  },
  {
   "cell_type": "markdown",
   "metadata": {},
   "source": [
    "Now let us extract individual segments with array slicing. Consider the scenario where we group the houses in the `train_valid_shuffled` dataframe into k=10 segments of roughly equal size, with starting and ending indices computed as above.\n",
    "Extract the fourth segment (segment 3) and assign it to a variable called `validation4`."
   ]
  },
  {
   "cell_type": "code",
   "execution_count": 227,
   "metadata": {
    "collapsed": false
   },
   "outputs": [],
   "source": [
    "n = len(train_valid_shuffled)\n",
    "k = 10 # 10-fold cross-validation\n",
    "\n",
    "(start, end) = get_indices(n, k, 4)\n",
    "validation4 = train_valid_shuffled[start:end+1]\n",
    "#print start\n",
    "#print end"
   ]
  },
  {
   "cell_type": "markdown",
   "metadata": {},
   "source": [
    "To verify that we have the right elements extracted, run the following cell, which computes the average price of the fourth segment. When rounded to nearest whole number, the average should be $536,234."
   ]
  },
  {
   "cell_type": "code",
   "execution_count": 228,
   "metadata": {
    "collapsed": false
   },
   "outputs": [
    {
     "name": "stdout",
     "output_type": "stream",
     "text": [
      "536234\n"
     ]
    }
   ],
   "source": [
    "print int(round(validation4['price'].mean(), 0))"
   ]
  },
  {
   "cell_type": "markdown",
   "metadata": {},
   "source": [
    "After designating one of the k segments as the validation set, we train a model using the rest of the data. To choose the remainder, we slice (0:start) and (end+1:n) of the data and paste them together. SFrame has `append()` method that pastes together two disjoint sets of rows originating from a common dataset. For instance, the following cell pastes together the first and last two rows of the `train_valid_shuffled` dataframe."
   ]
  },
  {
   "cell_type": "code",
   "execution_count": 229,
   "metadata": {
    "collapsed": false
   },
   "outputs": [],
   "source": [
    "#n = len(train_valid_shuffled)\n",
    "first_two = train_valid_shuffled[0:2]\n",
    "last_two = train_valid_shuffled[n-2:n]\n",
    "#print first_two.append(last_two)"
   ]
  },
  {
   "cell_type": "markdown",
   "metadata": {},
   "source": [
    "Extract the remainder of the data after *excluding* fourth segment (segment 3) and assign the subset to `train4`."
   ]
  },
  {
   "cell_type": "code",
   "execution_count": 230,
   "metadata": {
    "collapsed": false
   },
   "outputs": [],
   "source": [
    "#n = len(train_valid_shuffled)\n",
    "train4 = train_valid_shuffled[0:start]\n",
    "train4_last_part = train_valid_shuffled[end+1:n]\n",
    "train4 = train4.append(train4_last_part)"
   ]
  },
  {
   "cell_type": "markdown",
   "metadata": {},
   "source": [
    "To verify that we have the right elements extracted, run the following cell, which computes the average price of the data with fourth segment excluded. When rounded to nearest whole number, the average should be $539,450."
   ]
  },
  {
   "cell_type": "code",
   "execution_count": 231,
   "metadata": {
    "collapsed": false
   },
   "outputs": [
    {
     "name": "stdout",
     "output_type": "stream",
     "text": [
      "539450\n"
     ]
    }
   ],
   "source": [
    "print int(round(train4['price'].mean(), 0))"
   ]
  },
  {
   "cell_type": "markdown",
   "metadata": {},
   "source": [
    "Now we are ready to implement k-fold cross-validation. Write a function that computes k validation errors by designating each of the k segments as the validation set. It accepts as parameters (i) `k`, (ii) `l2_penalty`, (iii) dataframe, (iv) name of output column (e.g. `price`) and (v) list of feature names. The function returns the average validation error using k segments as validation sets.\n",
    "\n",
    "* For each i in [0, 1, ..., k-1]:\n",
    "  * Compute starting and ending indices of segment i and call 'start' and 'end'\n",
    "  * Form validation set by taking a slice (start:end+1) from the data.\n",
    "  * Form training set by appending slice (end+1:n) to the end of slice (0:start).\n",
    "  * Train a linear model using training set just formed, with a given l2_penalty\n",
    "  * Compute validation error using validation set just formed"
   ]
  },
  {
   "cell_type": "code",
   "execution_count": 240,
   "metadata": {
    "collapsed": false
   },
   "outputs": [],
   "source": [
    "def k_fold_cross_validation(k, l2_penalty, data, output_name, features_list):\n",
    "    \n",
    "    valid_error_sum = 0\n",
    "    n = len(data)\n",
    "    \n",
    "    for i in xrange(k):\n",
    "        start = (n*i)/k\n",
    "        end = ((n*(i+1))/k)-1\n",
    "\n",
    "        validation_set = data[start:end+1]\n",
    "    \n",
    "        train_set = data[0:start]\n",
    "        train_set_last_part = data[end+1:n]\n",
    "        train_set = train_set.append(train_set_last_part)\n",
    "        \n",
    "        model = graphlab.linear_regression.create(train_set, \n",
    "                                           target = 'price', features = features_list, \n",
    "                                           validation_set = None, verbose=0, l2_penalty=l2_penalty)\n",
    "        #model.coefficients.print_rows(num_rows=16)\n",
    "        pred_valid_set = model.predict(validation_set)\n",
    "        error = (validation_set['price'] - pred_valid_set)\n",
    "        validation_error = error**2\n",
    "        valid_error_sum += validation_error.sum()\n",
    "        #print \"segment:%d validation_error:%d\" % (i+1,validation_error.sum())\n",
    "    \n",
    "    avg_validation_error = valid_error_sum / k\n",
    "    print \"l2_penalty:%d k-fold:%d avg_validation_error:%d\" % (l2_penalty, k, avg_validation_error)\n",
    "    #print(avg_validation_error, type(avg_validation_error))\n",
    "    return avg_validation_error"
   ]
  },
  {
   "cell_type": "markdown",
   "metadata": {},
   "source": [
    "Once we have a function to compute the average validation error for a model, we can write a loop to find the model that minimizes the average validation error. Write a loop that does the following:\n",
    "* We will again be aiming to fit a 15th-order polynomial model using the `sqft_living` input\n",
    "* For `l2_penalty` in [10^1, 10^1.5, 10^2, 10^2.5, ..., 10^7] (to get this in Python, you can use this Numpy function: `np.logspace(1, 7, num=13)`.)\n",
    "    * Run 10-fold cross-validation with `l2_penalty`\n",
    "* Report which L2 penalty produced the lowest average validation error.\n",
    "\n",
    "Note: since the degree of the polynomial is now fixed to 15, to make things faster, you should generate polynomial features in advance and re-use them throughout the loop. Make sure to use `train_valid_shuffled` when generating polynomial features!"
   ]
  },
  {
   "cell_type": "code",
   "execution_count": 250,
   "metadata": {
    "collapsed": false
   },
   "outputs": [
    {
     "name": "stdout",
     "output_type": "stream",
     "text": [
      "l2_penalty:10 k-fold:10 avg_validation_error:491826427769366\n",
      "l2_penalty:31 k-fold:10 avg_validation_error:287504229919180\n",
      "l2_penalty:100 k-fold:10 avg_validation_error:160908965822184\n",
      "l2_penalty:316 k-fold:10 avg_validation_error:122090967326083\n",
      "l2_penalty:1000 k-fold:10 avg_validation_error:121192264451214\n",
      "l2_penalty:3162 k-fold:10 avg_validation_error:123950009289897\n",
      "l2_penalty:10000 k-fold:10 avg_validation_error:136837175247519\n",
      "l2_penalty:31622 k-fold:10 avg_validation_error:171728094842297\n",
      "l2_penalty:100000 k-fold:10 avg_validation_error:229361431260422\n",
      "l2_penalty:316227 k-fold:10 avg_validation_error:252940568728599\n",
      "l2_penalty:1000000 k-fold:10 avg_validation_error:258682548441132\n",
      "l2_penalty:3162277 k-fold:10 avg_validation_error:262819399742234\n",
      "l2_penalty:10000000 k-fold:10 avg_validation_error:264889015377543\n",
      "1.21192264451e+14\n"
     ]
    }
   ],
   "source": [
    "import numpy as np\n",
    "k = 10\n",
    "poly15_data = polynomial_sframe(train_valid_shuffled['sqft_living'], 15)\n",
    "my_features = poly15_data.column_names()\n",
    "#print my_features\n",
    "poly15_data['price'] = train_valid_shuffled['price'] # add price to the data since it's the target\n",
    "\n",
    "l2_penalty = np.logspace(1, 7, num=13)\n",
    "\n",
    "avg_validation_error = []\n",
    "for penalty in l2_penalty:\n",
    "    ave = k_fold_cross_validation(k, penalty, poly15_data, 'price', my_features)\n",
    "    #print ave\n",
    "    avg_validation_error.append(ave)\n",
    "\n",
    "print min(avg_validation_error)"
   ]
  },
  {
   "cell_type": "markdown",
   "metadata": {},
   "source": [
    "***QUIZ QUESTIONS:  What is the best value for the L2 penalty according to 10-fold validation?***"
   ]
  },
  {
   "cell_type": "markdown",
   "metadata": {},
   "source": [
    "You may find it useful to plot the k-fold cross-validation errors you have obtained to better understand the behavior of the method.  "
   ]
  },
  {
   "cell_type": "code",
   "execution_count": 251,
   "metadata": {
    "collapsed": false
   },
   "outputs": [
    {
     "data": {
      "image/png": "[encoded data removed]",
      "text/plain": [
       "<matplotlib.figure.Figure at 0x7f77b7e530d0>"
      ]
     },
     "metadata": {},
     "output_type": "display_data"
    }
   ],
   "source": [
    "# Plot the l2_penalty values in the x axis and the cross-validation error in the y axis.\n",
    "# Using plt.xscale('log') will make your plot more intuitive.\n",
    "plt.plot(l2_penalty, avg_validation_error)\n",
    "plt.xscale('log')"
   ]
  },
  {
   "cell_type": "markdown",
   "metadata": {},
   "source": [
    "Once you found the best value for the L2 penalty using cross-validation, it is important to retrain a final model on all of the training data using this value of `l2_penalty`.  This way, your final model will be trained on the entire dataset."
   ]
  },
  {
   "cell_type": "code",
   "execution_count": 252,
   "metadata": {
    "collapsed": false
   },
   "outputs": [],
   "source": [
    "l2_penalty = 1000\n",
    "final_model = graphlab.linear_regression.create(poly15_data, \n",
    "                                           target = 'price', features = my_features, \n",
    "                                           validation_set = None, verbose=0, l2_penalty=l2_penalty)"
   ]
  },
  {
   "cell_type": "markdown",
   "metadata": {},
   "source": [
    "***QUIZ QUESTION: Using the best L2 penalty found above, train a model using all training data. What is the RSS on the TEST data of the model you learn with this L2 penalty? ***"
   ]
  },
  {
   "cell_type": "code",
   "execution_count": 253,
   "metadata": {
    "collapsed": false
   },
   "outputs": [
    {
     "name": "stdout",
     "output_type": "stream",
     "text": [
      "1.28780855058e+14\n"
     ]
    }
   ],
   "source": [
    "poly15_test_data = polynomial_sframe(test['sqft_living'], 15)\n",
    "#my_features = poly15_test_data.column_names()\n",
    "#print my_features\n",
    "poly15_test_data['price'] = test['price']\n",
    "\n",
    "test_pred = final_model.predict(poly15_test_data)\n",
    "pred_error = test['price'] - test_pred\n",
    "RSS_test = (pred_error**2)\n",
    "print RSS_test.sum()"
   ]
  },
  {
   "cell_type": "code",
   "execution_count": null,
   "metadata": {
    "collapsed": true
   },
   "outputs": [],
   "source": []
  }
 ],
 "metadata": {
  "kernelspec": {
   "display_name": "Python 2",
   "language": "python",
   "name": "python2"
  },
  "language_info": {
   "codemirror_mode": {
    "name": "ipython",
    "version": 2
   },
   "file_extension": ".py",
   "mimetype": "text/x-python",
   "name": "python",
   "nbconvert_exporter": "python",
   "pygments_lexer": "ipython2",
   "version": "2.7.11"
  }
 },
 "nbformat": 4,
 "nbformat_minor": 0
}
